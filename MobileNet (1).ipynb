{
  "nbformat": 4,
  "nbformat_minor": 0,
  "metadata": {
    "colab": {
      "provenance": [],
      "collapsed_sections": []
    },
    "kernelspec": {
      "name": "python3",
      "display_name": "Python 3"
    },
    "language_info": {
      "name": "python"
    },
    "accelerator": "GPU",
    "gpuClass": "standard"
  },
  "cells": [
    {
      "cell_type": "code",
      "execution_count": 2,
      "metadata": {
        "id": "wbUwk_n1i5qB"
      },
      "outputs": [],
      "source": [
        "import tensorflow as tf\n",
        "import numpy as np\n",
        "import matplotlib.pyplot as plt\n",
        "\n",
        "import tensorflow_hub as hub\n",
        "import tensorflow_datasets as tfds\n",
        "\n",
        "from tensorflow.keras import layers\n",
        "from tensorflow.keras.preprocessing.image import ImageDataGenerator"
      ]
    },
    {
      "cell_type": "code",
      "source": [
        "import logging\n",
        "logger = tf.get_logger()\n",
        "logger.setLevel(logging.ERROR)"
      ],
      "metadata": {
        "id": "br39aYfYjDzc"
      },
      "execution_count": 3,
      "outputs": []
    },
    {
      "cell_type": "code",
      "source": [
        "import keras\n",
        "from keras.applications.mobilenet import MobileNet\n",
        "\n",
        "from sklearn.metrics import confusion_matrix\n",
        "from keras.layers.core import Dense, Activation\n",
        "from keras.metrics import categorical_crossentropy\n",
        "from keras.metrics import binary_crossentropy\n",
        "from sklearn.model_selection import train_test_split\n",
        "from keras.preprocessing.image import ImageDataGenerator\n",
        "from keras.applications.mobilenet import preprocess_input\n",
        "from tensorflow.keras.preprocessing import image_dataset_from_directory\n",
        "import tensorflow as tf\n",
        "from keras.preprocessing import image"
      ],
      "metadata": {
        "id": "rPWEZzuwjI8a"
      },
      "execution_count": 4,
      "outputs": []
    },
    {
      "cell_type": "code",
      "source": [
        "train_datagen = image.ImageDataGenerator(\n",
        "    rescale=1./255,\n",
        "    shear_range = 0.3,\n",
        "    zoom_range = 0.3,\n",
        "    horizontal_flip = True,\n",
        ")\n",
        "validation_datagen = image.ImageDataGenerator(\n",
        "    rescale = 1./255\n",
        ")"
      ],
      "metadata": {
        "id": "Sptr_jMujKO8"
      },
      "execution_count": 5,
      "outputs": []
    },
    {
      "cell_type": "code",
      "source": [
        "from google.colab import drive\n",
        "drive.mount('/content/drive')"
      ],
      "metadata": {
        "colab": {
          "base_uri": "https://localhost:8080/"
        },
        "id": "SMMVpnU2jNX2",
        "outputId": "e3cfdaa5-74a9-45c0-d509-41b573e1153d"
      },
      "execution_count": 6,
      "outputs": [
        {
          "output_type": "stream",
          "name": "stdout",
          "text": [
            "Mounted at /content/drive\n"
          ]
        }
      ]
    },
    {
      "cell_type": "code",
      "source": [
        "train = train_datagen.flow_from_directory(\n",
        "    '/content/drive/MyDrive/Lung_CancerLV/Train70',\n",
        "    target_size = (224, 224),\n",
        "    batch_size = 32,\n",
        "    class_mode = 'categorical'\n",
        ")\n",
        "\n",
        "validation = validation_datagen.flow_from_directory(\n",
        "    '/content/drive/MyDrive/Lung_CancerLV/Validation10',\n",
        "    target_size = (224, 224),\n",
        "    batch_size = 32,\n",
        "    class_mode = 'categorical'\n",
        ")\n",
        "\n",
        "test = validation_datagen.flow_from_directory(\n",
        "    '/content/drive/MyDrive/Lung_CancerLV/Test20',\n",
        "    target_size = (224, 224),\n",
        "    batch_size = 32,\n",
        "    shuffle = False,\n",
        "    class_mode = 'categorical'\n",
        ")"
      ],
      "metadata": {
        "colab": {
          "base_uri": "https://localhost:8080/"
        },
        "id": "4O44VclyjpDD",
        "outputId": "f0e09d9c-1fa3-48a2-b48d-204eb612ac81"
      },
      "execution_count": 7,
      "outputs": [
        {
          "output_type": "stream",
          "name": "stdout",
          "text": [
            "Found 10543 images belonging to 3 classes.\n",
            "Found 1504 images belonging to 3 classes.\n",
            "Found 3000 images belonging to 3 classes.\n"
          ]
        }
      ]
    },
    {
      "cell_type": "code",
      "source": [
        "MobileNetv2 = tf.keras.applications.MobileNetV2(\n",
        "    include_top=False, \n",
        "    weights = 'imagenet', \n",
        "    input_shape=(224,224,3),\n",
        "    )"
      ],
      "metadata": {
        "colab": {
          "base_uri": "https://localhost:8080/"
        },
        "id": "vYjKRlVPjrp4",
        "outputId": "d4957211-31a0-48e4-a5b5-ccc5a65f9113"
      },
      "execution_count": 8,
      "outputs": [
        {
          "output_type": "stream",
          "name": "stdout",
          "text": [
            "Downloading data from https://storage.googleapis.com/tensorflow/keras-applications/mobilenet_v2/mobilenet_v2_weights_tf_dim_ordering_tf_kernels_1.0_224_no_top.h5\n",
            "9406464/9406464 [==============================] - 0s 0us/step\n"
          ]
        }
      ]
    },
    {
      "cell_type": "code",
      "source": [
        "MobileNetv2.trainable = False"
      ],
      "metadata": {
        "id": "_1pMtW3Wjwyh"
      },
      "execution_count": 9,
      "outputs": []
    },
    {
      "cell_type": "code",
      "source": [
        "model = tf.keras.models.Sequential([\n",
        "  MobileNetv2,\n",
        "  tf.keras.layers.Flatten(),\n",
        "  tf.keras.layers.Dropout(0.8),\n",
        "  tf.keras.layers.Dense(units=1024, activation='relu'),\n",
        "  tf.keras.layers.Dense(units=512, activation='relu'),\n",
        "  tf.keras.layers.Dense(units=3, activation='softmax'), \n",
        "])"
      ],
      "metadata": {
        "id": "2EhStBJGj2ZT"
      },
      "execution_count": 10,
      "outputs": []
    },
    {
      "cell_type": "code",
      "source": [
        "model.compile(\n",
        "    optimizer = 'adam',\n",
        "    loss = 'categorical_crossentropy',\n",
        "    metrics = ['accuracy']\n",
        ")\n",
        "model.summary()"
      ],
      "metadata": {
        "colab": {
          "base_uri": "https://localhost:8080/"
        },
        "id": "jdIvLdrjmflo",
        "outputId": "d8f37064-f9e1-4f45-b615-3db721a5131d"
      },
      "execution_count": 11,
      "outputs": [
        {
          "output_type": "stream",
          "name": "stdout",
          "text": [
            "Model: \"sequential\"\n",
            "_________________________________________________________________\n",
            " Layer (type)                Output Shape              Param #   \n",
            "=================================================================\n",
            " mobilenetv2_1.00_224 (Funct  (None, 7, 7, 1280)       2257984   \n",
            " ional)                                                          \n",
            "                                                                 \n",
            " flatten (Flatten)           (None, 62720)             0         \n",
            "                                                                 \n",
            " dropout (Dropout)           (None, 62720)             0         \n",
            "                                                                 \n",
            " dense (Dense)               (None, 1024)              64226304  \n",
            "                                                                 \n",
            " dense_1 (Dense)             (None, 512)               524800    \n",
            "                                                                 \n",
            " dense_2 (Dense)             (None, 3)                 1539      \n",
            "                                                                 \n",
            "=================================================================\n",
            "Total params: 67,010,627\n",
            "Trainable params: 64,752,643\n",
            "Non-trainable params: 2,257,984\n",
            "_________________________________________________________________\n"
          ]
        }
      ]
    },
    {
      "cell_type": "code",
      "source": [
        "history = model.fit(\n",
        "    x = train, \n",
        "    validation_data = validation,\n",
        "    epochs = 15\n",
        ")"
      ],
      "metadata": {
        "colab": {
          "base_uri": "https://localhost:8080/"
        },
        "id": "JoturuZ3mkMs",
        "outputId": "49d3805e-f9d9-4880-88f5-2a16c85aa000"
      },
      "execution_count": 12,
      "outputs": [
        {
          "output_type": "stream",
          "name": "stdout",
          "text": [
            "Epoch 1/15\n",
            "330/330 [==============================] - 3697s 11s/step - loss: 0.8574 - accuracy: 0.8961 - val_loss: 0.1560 - val_accuracy: 0.9322\n",
            "Epoch 2/15\n",
            "330/330 [==============================] - 225s 681ms/step - loss: 0.1820 - accuracy: 0.9352 - val_loss: 0.1817 - val_accuracy: 0.9335\n",
            "Epoch 3/15\n",
            "330/330 [==============================] - 224s 680ms/step - loss: 0.1558 - accuracy: 0.9438 - val_loss: 0.1011 - val_accuracy: 0.9621\n",
            "Epoch 4/15\n",
            "330/330 [==============================] - 222s 673ms/step - loss: 0.1508 - accuracy: 0.9495 - val_loss: 0.0798 - val_accuracy: 0.9747\n",
            "Epoch 5/15\n",
            "330/330 [==============================] - 224s 680ms/step - loss: 0.1347 - accuracy: 0.9518 - val_loss: 0.0695 - val_accuracy: 0.9701\n",
            "Epoch 6/15\n",
            "330/330 [==============================] - 222s 672ms/step - loss: 0.1258 - accuracy: 0.9545 - val_loss: 0.0756 - val_accuracy: 0.9741\n",
            "Epoch 7/15\n",
            "330/330 [==============================] - 221s 669ms/step - loss: 0.1096 - accuracy: 0.9573 - val_loss: 0.0843 - val_accuracy: 0.9681\n",
            "Epoch 8/15\n",
            "330/330 [==============================] - 221s 671ms/step - loss: 0.1077 - accuracy: 0.9604 - val_loss: 0.0709 - val_accuracy: 0.9721\n",
            "Epoch 9/15\n",
            "330/330 [==============================] - 223s 676ms/step - loss: 0.0860 - accuracy: 0.9667 - val_loss: 0.0651 - val_accuracy: 0.9781\n",
            "Epoch 10/15\n",
            "330/330 [==============================] - 222s 673ms/step - loss: 0.0888 - accuracy: 0.9678 - val_loss: 0.0564 - val_accuracy: 0.9814\n",
            "Epoch 11/15\n",
            "330/330 [==============================] - 228s 692ms/step - loss: 0.0909 - accuracy: 0.9658 - val_loss: 0.0556 - val_accuracy: 0.9794\n",
            "Epoch 12/15\n",
            "330/330 [==============================] - 224s 679ms/step - loss: 0.0768 - accuracy: 0.9708 - val_loss: 0.0517 - val_accuracy: 0.9820\n",
            "Epoch 13/15\n",
            "330/330 [==============================] - 223s 675ms/step - loss: 0.0758 - accuracy: 0.9689 - val_loss: 0.0856 - val_accuracy: 0.9747\n",
            "Epoch 14/15\n",
            "330/330 [==============================] - 221s 670ms/step - loss: 0.0648 - accuracy: 0.9759 - val_loss: 0.0378 - val_accuracy: 0.9847\n",
            "Epoch 15/15\n",
            "330/330 [==============================] - 220s 667ms/step - loss: 0.0705 - accuracy: 0.9761 - val_loss: 0.0364 - val_accuracy: 0.9867\n"
          ]
        }
      ]
    },
    {
      "cell_type": "code",
      "source": [
        "# Evaluate the loss and accuracy\n",
        "loss, accuracy = model.evaluate(test)\n",
        "\n",
        "# Print the accuracy\n",
        "print(\"Accuracy: \" + str(accuracy))\n",
        "# Print the loss\n",
        "print(\"Loss: \" + str(loss))"
      ],
      "metadata": {
        "colab": {
          "base_uri": "https://localhost:8080/"
        },
        "id": "ZX8LKsuFTewT",
        "outputId": "6389e395-3a1b-44ce-8abf-5000c50c3cc9"
      },
      "execution_count": 13,
      "outputs": [
        {
          "output_type": "stream",
          "name": "stdout",
          "text": [
            "94/94 [==============================] - 1234s 13s/step - loss: 0.0297 - accuracy: 0.9893\n",
            "Accuracy: 0.9893333315849304\n",
            "Loss: 0.029666882008314133\n"
          ]
        }
      ]
    },
    {
      "cell_type": "code",
      "source": [
        "test.class_indices"
      ],
      "metadata": {
        "colab": {
          "base_uri": "https://localhost:8080/"
        },
        "id": "f5OpdqFafppz",
        "outputId": "bc29f48b-f4ae-4383-d954-6325cb7a5eb2"
      },
      "execution_count": 14,
      "outputs": [
        {
          "output_type": "execute_result",
          "data": {
            "text/plain": [
              "{'Lung-Benign_Tissue': 0,\n",
              " 'Lung_Adenocarcinoma': 1,\n",
              " 'Lung_Squamous_Cell_Carcinoma': 2}"
            ]
          },
          "metadata": {},
          "execution_count": 14
        }
      ]
    },
    {
      "cell_type": "code",
      "source": [
        "import numpy as np\n",
        "from sklearn import metrics\n",
        "\n",
        "predictions = model.predict(test)\n",
        "predicted_classes = np.argmax(predictions, axis = 1)\n",
        "true_classes = test.classes\n",
        "class_labels = ['Lung-Benign_Tissue', 'Lung_Adenocarcinoma', 'Lung_Squamous_Cell_Carcinoma']\n",
        "report = metrics.classification_report(true_classes, predicted_classes, target_names = class_labels)\n",
        "print(report)"
      ],
      "metadata": {
        "colab": {
          "base_uri": "https://localhost:8080/"
        },
        "id": "7_ihYER-ftKe",
        "outputId": "c7a2ce9b-60b3-40c5-95d8-42f92156ae26"
      },
      "execution_count": 15,
      "outputs": [
        {
          "output_type": "stream",
          "name": "stdout",
          "text": [
            "94/94 [==============================] - 33s 341ms/step\n",
            "                              precision    recall  f1-score   support\n",
            "\n",
            "          Lung-Benign_Tissue       1.00      1.00      1.00      1000\n",
            "         Lung_Adenocarcinoma       0.99      0.98      0.98      1000\n",
            "Lung_Squamous_Cell_Carcinoma       0.98      0.99      0.99      1000\n",
            "\n",
            "                    accuracy                           0.99      3000\n",
            "                   macro avg       0.99      0.99      0.99      3000\n",
            "                weighted avg       0.99      0.99      0.99      3000\n",
            "\n"
          ]
        }
      ]
    },
    {
      "cell_type": "code",
      "source": [
        "import seaborn as sn\n",
        "import pandas as pd\n",
        "import matplotlib.pyplot as plt\n",
        "\n",
        "cm = metrics.confusion_matrix(true_classes, predicted_classes)\n",
        "df_cm = pd.DataFrame(cm, index = [i for i in ['Lung-Benign_Tissue', 'Lung_Adenocarcinoma', 'Lung_Squamous_Cell_Carcinoma']],\n",
        "                  columns = [i for i in ['Lung-Benign_Tissue', 'Lung_Adenocarcinoma', 'Lung_Squamous_Cell_Carcinoma']])\n",
        "plt.figure(figsize = (10,7))\n",
        "sn.heatmap(df_cm, annot=True, fmt='d')"
      ],
      "metadata": {
        "colab": {
          "base_uri": "https://localhost:8080/",
          "height": 446
        },
        "id": "vFkami50fy8Z",
        "outputId": "20abba5d-5064-4944-a8f3-cce31b45248d"
      },
      "execution_count": 16,
      "outputs": [
        {
          "output_type": "execute_result",
          "data": {
            "text/plain": [
              "<matplotlib.axes._subplots.AxesSubplot at 0x7f5850e09050>"
            ]
          },
          "metadata": {},
          "execution_count": 16
        },
        {
          "output_type": "display_data",
          "data": {
            "text/plain": [
              "<Figure size 720x504 with 2 Axes>"
            ],
            "image/png": "[encoded data removed]"
          },
          "metadata": {
            "needs_background": "light"
          }
        }
      ]
    },
    {
      "cell_type": "code",
      "source": [
        "plt.plot(history.history['accuracy'])\n",
        "plt.plot(history.history['val_accuracy'])\n",
        "plt.title(\"model accuacy\")\n",
        "plt.ylabel('accuracy')\n",
        "plt.xlabel('epoch')\n",
        "plt.legend(['train accuracy', 'validation accuracy'], loc='lower right')\n",
        "plt.show()\n",
        "\n",
        "plt.plot(history.history['loss'])\n",
        "plt.plot(history.history['val_loss'])\n",
        "plt.title('model loss')\n",
        "plt.ylabel('loss')\n",
        "plt.xlabel('epoch')\n",
        "plt.legend(['train loss', 'validation loss'], loc='upper right')\n",
        "plt.show()"
      ],
      "metadata": {
        "colab": {
          "base_uri": "https://localhost:8080/",
          "height": 573
        },
        "id": "0YgWR2q1f15V",
        "outputId": "bb41a860-624c-4c88-db49-4640e4efaf4e"
      },
      "execution_count": 17,
      "outputs": [
        {
          "output_type": "display_data",
          "data": {
            "text/plain": [
              "<Figure size 432x288 with 1 Axes>"
            ],
            "image/png": "[encoded data removed]"
          },
          "metadata": {
            "needs_background": "light"
          }
        },
        {
          "output_type": "display_data",
          "data": {
            "text/plain": [
              "<Figure size 432x288 with 1 Axes>"
            ],
            "image/png": "[encoded data removed]"
          },
          "metadata": {
            "needs_background": "light"
          }
        }
      ]
    }
  ]
}